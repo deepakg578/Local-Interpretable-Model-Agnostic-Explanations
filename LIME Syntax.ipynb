{
 "cells": [
  {
   "cell_type": "markdown",
   "metadata": {},
   "source": [
    "## Reading materials for LIME \n",
    "\n",
    "https://homes.cs.washington.edu/~marcotcr/blog/lime/\n",
    "\n",
    "https://www.oreilly.com/learning/introduction-to-local-interpretable-model-agnostic-explanations-lime\n",
    "\n",
    "https://www.youtube.com/watch?v=KP7-JtFMLo4&t=831s\n",
    "\n"
   ]
  },
  {
   "cell_type": "code",
   "execution_count": 1,
   "metadata": {},
   "outputs": [
    {
     "name": "stdout",
     "output_type": "stream",
     "text": [
      "Collecting lime\n",
      "  Downloading lime-0.1.1.21.tar.gz (250kB)\n",
      "Requirement already satisfied: numpy in c:\\users\\skkumar2\\appdata\\local\\continuum\\anaconda2\\lib\\site-packages (from lime)\n",
      "Requirement already satisfied: scipy in c:\\users\\skkumar2\\appdata\\local\\continuum\\anaconda2\\lib\\site-packages (from lime)\n",
      "Requirement already satisfied: scikit-learn>=0.18 in c:\\users\\skkumar2\\appdata\\local\\continuum\\anaconda2\\lib\\site-packages (from lime)\n",
      "Building wheels for collected packages: lime\n",
      "  Running setup.py bdist_wheel for lime: started\n",
      "  Running setup.py bdist_wheel for lime: finished with status 'done'\n",
      "  Stored in directory: C:\\Users\\skkumar2\\AppData\\Local\\pip\\Cache\\wheels\\c0\\8c\\d3\\02f5dfc91fc05ac0e1e3548b57066e61a931b30068fdb462ad\n",
      "Successfully built lime\n",
      "Installing collected packages: lime\n",
      "Successfully installed lime-0.1.1.21\n"
     ]
    }
   ],
   "source": [
    "!pip install lime"
   ]
  },
  {
   "cell_type": "code",
   "execution_count": 3,
   "metadata": {},
   "outputs": [],
   "source": [
    "import lime \n",
    "import lime.lime_tabular"
   ]
  },
  {
   "cell_type": "code",
   "execution_count": null,
   "metadata": {
    "collapsed": true
   },
   "outputs": [],
   "source": [
    "predict_fn_logreg = lambda x: logmodel.predict_proba(x).astype(float)\n",
    "predict_fn_rfc = lambda x: rfc.predict_proba(x).astype(float)"
   ]
  },
  {
   "cell_type": "code",
   "execution_count": null,
   "metadata": {
    "collapsed": true
   },
   "outputs": [],
   "source": [
    "features_name_cat = list(train_cat)\n",
    "features_name_int = list(train_int)\n",
    "features_name_float = list(train_float)\n",
    "\n",
    "feature_names = sum([features_name_cat,features_name_int,features_name_float],[])\n",
    "print(feature_names)"
   ]
  },
  {
   "cell_type": "code",
   "execution_count": null,
   "metadata": {
    "collapsed": true
   },
   "outputs": [],
   "source": [
    "# Create the LIME Explainer\n",
    "explainer = lime.lime_tabular.LimeTabularExplainer(X_train ,feature_names = feature_names,class_names=['1','2','3'],\n",
    "                                                   categorical_features=cat_columns, \n",
    "                                                   categorical_names=feature_names_cat, kernel_width=3)"
   ]
  },
  {
   "cell_type": "code",
   "execution_count": null,
   "metadata": {
    "collapsed": true
   },
   "outputs": [],
   "source": [
    "# Pick the observation in the validation set for which explanation is required\n",
    "observation_1 = 2\n",
    "\n",
    "# Get the explanation for Logistic Regression\n",
    "exp = explainer.explain_instance(X_validation[observation_1], predict_fn_logreg, num_features=6)\n",
    "exp.show_in_notebook(show_all=False)\n"
   ]
  },
  {
   "cell_type": "code",
   "execution_count": null,
   "metadata": {
    "collapsed": true
   },
   "outputs": [],
   "source": [
    "# Get the explanation for RandomForest\n",
    "exp = explainer.explain_instance(X_validation[observation_1], predict_fn_rf, num_features=6)\n",
    "exp.show_in_notebook(show_all=False)"
   ]
  },
  {
   "cell_type": "code",
   "execution_count": null,
   "metadata": {
    "collapsed": true
   },
   "outputs": [],
   "source": [
    "# Look at the actual value in the validation set\n",
    "print(Y_validation[observation_1])"
   ]
  }
 ],
 "metadata": {
  "kernelspec": {
   "display_name": "Python 3",
   "language": "python",
   "name": "python3"
  },
  "language_info": {
   "codemirror_mode": {
    "name": "ipython",
    "version": 3
   },
   "file_extension": ".py",
   "mimetype": "text/x-python",
   "name": "python",
   "nbconvert_exporter": "python",
   "pygments_lexer": "ipython3",
   "version": "3.6.1"
  }
 },
 "nbformat": 4,
 "nbformat_minor": 2
}
